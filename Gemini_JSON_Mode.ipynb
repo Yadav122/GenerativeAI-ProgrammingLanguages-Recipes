{
  "nbformat": 4,
  "nbformat_minor": 0,
  "metadata": {
    "colab": {
      "provenance": [],
      "authorship_tag": "ABX9TyOqJ0pHo4niunMIWw1HBkfz",
      "include_colab_link": true
    },
    "kernelspec": {
      "name": "python3",
      "display_name": "Python 3"
    },
    "language_info": {
      "name": "python"
    }
  },
  "cells": [
    {
      "cell_type": "markdown",
      "metadata": {
        "id": "view-in-github",
        "colab_type": "text"
      },
      "source": [
        "<a href=\"https://colab.research.google.com/github/Yadav122/GenerativeAI-ProgrammingLanguages-Recipes/blob/main/Gemini_JSON_Mode.ipynb\" target=\"_parent\"><img src=\"https://colab.research.google.com/assets/colab-badge.svg\" alt=\"Open In Colab\"/></a>"
      ]
    },
    {
      "cell_type": "code",
      "execution_count": null,
      "metadata": {
        "colab": {
          "base_uri": "https://localhost:8080/"
        },
        "id": "iJoXdIws-0Tm",
        "outputId": "30116d46-b2a2-4a19-c597-76e88395bc31"
      },
      "outputs": [
        {
          "output_type": "stream",
          "name": "stdout",
          "text": [
            "\u001b[?25l     \u001b[90m━━━━━━━━━━━━━━━━━━━━━━━━━━━━━━━━━━━━━━━━\u001b[0m \u001b[32m0.0/158.8 kB\u001b[0m \u001b[31m?\u001b[0m eta \u001b[36m-:--:--\u001b[0m\r\u001b[2K     \u001b[91m━━━━━━━━━━━━━━━━━━\u001b[0m\u001b[90m╺\u001b[0m\u001b[90m━━━━━━━━━━━━━━━━━━━━━\u001b[0m \u001b[32m71.7/158.8 kB\u001b[0m \u001b[31m2.0 MB/s\u001b[0m eta \u001b[36m0:00:01\u001b[0m\r\u001b[2K     \u001b[90m━━━━━━━━━━━━━━━━━━━━━━━━━━━━━━━━━━━━━━━━\u001b[0m \u001b[32m158.8/158.8 kB\u001b[0m \u001b[31m2.7 MB/s\u001b[0m eta \u001b[36m0:00:00\u001b[0m\n",
            "\u001b[?25h"
          ]
        }
      ],
      "source": [
        "!pip install -q -U google-generativeai"
      ]
    },
    {
      "cell_type": "code",
      "source": [
        "from google.colab import userdata\n",
        "import google.generativeai as genai\n",
        "\n",
        "GOOGLE_API_KEY=userdata.get(\"GOOGLE_API_KEY\")\n",
        "genai.configure(api_key = GOOGLE_API_KEY)"
      ],
      "metadata": {
        "id": "oDGSaoC0_Oxe"
      },
      "execution_count": null,
      "outputs": []
    },
    {
      "cell_type": "code",
      "source": [
        "model= genai.GenerativeModel(\n",
        "    \"gemini-1.5-flash\",\n",
        "    generation_config={\"response_mime_type\": \"application/json\"}\n",
        ")"
      ],
      "metadata": {
        "id": "Gyu_N35rAb05"
      },
      "execution_count": null,
      "outputs": []
    },
    {
      "cell_type": "code",
      "source": [
        "prompt = \"\"\"\n",
        "Using the following JSON Schema,\n",
        "Please list down 5 popular programing languages.\n",
        "Language ={\n",
        "  \"programming_language\": str\n",
        "}\n",
        "Return: list[Language]\n",
        "\"\"\""
      ],
      "metadata": {
        "id": "x0UoBzi-Axqy"
      },
      "execution_count": null,
      "outputs": []
    },
    {
      "cell_type": "code",
      "source": [
        "raw_response = model.generate_content(prompt)\n",
        "print(raw_response.text)"
      ],
      "metadata": {
        "colab": {
          "base_uri": "https://localhost:8080/",
          "height": 72
        },
        "id": "YhXxbDsrBW7h",
        "outputId": "8790e037-31a6-43b9-9ef1-10fc9e94ad6f"
      },
      "execution_count": null,
      "outputs": [
        {
          "output_type": "stream",
          "name": "stdout",
          "text": [
            "[{\"programming_language\": \"Python\"}, {\"programming_language\": \"JavaScript\"}, {\"programming_language\": \"Java\"}, {\"programming_language\": \"C++\"}, {\"programming_language\": \"C#\"}, {\"programming_language\": \"Go\"}]\n",
            "\n"
          ]
        }
      ]
    },
    {
      "cell_type": "code",
      "source": [
        "import json\n",
        "response = json.loads(raw_response.text)\n",
        "print(response)"
      ],
      "metadata": {
        "colab": {
          "base_uri": "https://localhost:8080/"
        },
        "id": "rg20bPjwGF4H",
        "outputId": "010169d6-1830-43b2-a2a5-20d664486940"
      },
      "execution_count": null,
      "outputs": [
        {
          "output_type": "stream",
          "name": "stdout",
          "text": [
            "[{'programming_language': 'Python'}, {'programming_language': 'JavaScript'}, {'programming_language': 'Java'}, {'programming_language': 'C++'}, {'programming_language': 'C#'}, {'programming_language': 'Go'}]\n"
          ]
        }
      ]
    },
    {
      "cell_type": "code",
      "source": [
        "# Constraint Decoding\n",
        "import typing_extensions as typing"
      ],
      "metadata": {
        "id": "rnZki8UcGSOu"
      },
      "execution_count": null,
      "outputs": []
    },
    {
      "cell_type": "markdown",
      "source": [],
      "metadata": {
        "id": "a6_g5JIiO7hw"
      }
    },
    {
      "cell_type": "code",
      "source": [
        "class Recipe(typing.TypedDict):\n",
        "  recipe_name:str"
      ],
      "metadata": {
        "id": "I7OmP5akGgry"
      },
      "execution_count": null,
      "outputs": []
    },
    {
      "cell_type": "code",
      "source": [
        "# Direct JSON output with constrained decoding\n",
        "result = model.generate_content(\n",
        "    \"Please list 5 popular cookie recipes.\",\n",
        "    generation_config=genai.GenerationConfig(\n",
        "        response_mime_type=\"application/json\",\n",
        "        response_schema = list[Recipe]\n",
        "    ),\n",
        "    request_options={\"timeout\": 600},  # timeout\n",
        ")\n",
        "print(result.text)"
      ],
      "metadata": {
        "colab": {
          "base_uri": "https://localhost:8080/",
          "height": 106
        },
        "id": "GDOgmpJGGwR0",
        "outputId": "fb137256-a0dc-4d6a-eab7-9381a1802618"
      },
      "execution_count": null,
      "outputs": [
        {
          "output_type": "stream",
          "name": "stdout",
          "text": [
            "{\"recipes\": [{\"name\": \"Chocolate Chip Cookies\", \"ingredients\": [\"1 cup (2 sticks) unsalted butter, softened\", \"1 cup granulated sugar\", \"1 cup packed light brown sugar\", \"2 large eggs\", \"2 teaspoons pure vanilla extract\", \"2 1/4 cups all-purpose flour\", \"1 teaspoon baking soda\", \"1 teaspoon salt\", \"2 cups semisweet chocolate chips\"], \"instructions\": [\"Preheat oven to 375 degrees F (190 degrees C).\", \"In a large bowl, cream together the butter and sugars until light and fluffy.\", \"Beat in the eggs one at a time, then stir in the vanilla.\", \"In a separate bowl, whisk together the flour, baking soda, and salt.\", \"Gradually add the dry ingredients to the wet ingredients, mixing until just combined.\", \"Stir in the chocolate chips.\", \"Drop by rounded tablespoons onto ungreased baking sheets.\", \"Bake for 9-11 minutes, or until golden brown.\", \"Let cool on baking sheets for a few minutes before transferring to a wire rack to cool completely.\"]}, {\"name\": \"Oatmeal Raisin Cookies\", \"ingredients\": [\"1 cup (2 sticks) unsalted butter, softened\", \"1 cup granulated sugar\", \"1 cup packed light brown sugar\", \"2 large eggs\", \"1 teaspoon pure vanilla extract\", \"2 1/4 cups all-purpose flour\", \"1 teaspoon baking soda\", \"1 teaspoon salt\", \"1 cup rolled oats\", \"1 cup raisins\"], \"instructions\": [\"Preheat oven to 375 degrees F (190 degrees C).\", \"In a large bowl, cream together the butter and sugars until light and fluffy.\", \"Beat in the eggs one at a time, then stir in the vanilla.\", \"In a separate bowl, whisk together the flour, baking soda, and salt.\", \"Gradually add the dry ingredients to the wet ingredients, mixing until just combined.\", \"Stir in the oats and raisins.\", \"Drop by rounded tablespoons onto ungreased baking sheets.\", \"Bake for 10-12 minutes, or until golden brown.\", \"Let cool on baking sheets for a few minutes before transferring to a wire rack to cool completely.\"]}, {\"name\": \"Snickerdoodles\", \"ingredients\": [\"1 cup (2 sticks) unsalted butter, softened\", \"1 cup granulated sugar\", \"1 cup packed light brown sugar\", \"2 large eggs\", \"2 teaspoons pure vanilla extract\", \"2 1/4 cups all-purpose flour\", \"1 teaspoon cream of tartar\", \"1/2 teaspoon salt\", \"2 tablespoons granulated sugar (for rolling)\"], \"instructions\": [\"Preheat oven to 400 degrees F (200 degrees C).\", \"In a large bowl, cream together the butter and sugars until light and fluffy.\", \"Beat in the eggs one at a time, then stir in the vanilla.\", \"In a separate bowl, whisk together the flour, cream of tartar, and salt.\", \"Gradually add the dry ingredients to the wet ingredients, mixing until just combined.\", \"In a small bowl, combine the 2 tablespoons of granulated sugar with 1 tablespoon of cinnamon.\", \"Roll the dough into 1-inch balls and roll in the cinnamon sugar mixture.\", \"Place the balls on ungreased baking sheets.\", \"Bake for 8-10 minutes, or until golden brown.\", \"Let cool on baking sheets for a few minutes before transferring to a wire rack to cool completely.\"]}, {\"name\": \"Sugar Cookies\", \"ingredients\": [\"1 cup (2 sticks) unsalted butter, softened\", \"1 cup granulated sugar\", \"1 large egg\", \"1 teaspoon pure vanilla extract\", \"2 1/4 cups all-purpose flour\", \"1/2 teaspoon baking powder\", \"1/4 teaspoon salt\"], \"instructions\": [\"Preheat oven to 375 degrees F (190 degrees C).\", \"In a large bowl, cream together the butter and sugar until light and fluffy.\", \"Beat in the egg, then stir in the vanilla.\", \"In a separate bowl, whisk together the flour, baking powder, and salt.\", \"Gradually add the dry ingredients to the wet ingredients, mixing until just combined.\", \"Roll out the dough on a lightly floured surface to 1/4-inch thickness.\", \"Cut out shapes using cookie cutters.\", \"Place the cookies on ungreased baking sheets.\", \"Bake for 8-10 minutes, or until golden brown.\", \"Let cool on baking sheets for a few minutes before transferring to a wire rack to cool completely.\"]}, {\"name\": \"Peanut Butter Cookies\", \"ingredients\": [\"1 cup (2 sticks) unsalted butter, softened\", \"1 cup creamy peanut butter\", \"1 cup granulated sugar\", \"1/2 cup packed light brown sugar\", \"1 large egg\", \"1 teaspoon pure vanilla extract\", \"1 3/4 cups all-purpose flour\", \"1 teaspoon baking soda\", \"1/2 teaspoon salt\"], \"instructions\": [\"Preheat oven to 375 degrees F (190 degrees C).\", \"In a large bowl, cream together the butter, peanut butter, and sugars until light and fluffy.\", \"Beat in the egg, then stir in the vanilla.\", \"In a separate bowl, whisk together the flour, baking soda, and salt.\", \"Gradually add the dry ingredients to the wet ingredients, mixing until just combined.\", \"Drop by rounded tablespoons onto ungreased baking sheets.\", \"Press a fork into the top of each cookie to create a criss-cross pattern.\", \"Bake for 10-12 minutes, or until golden brown.\", \"Let cool on baking sheets for a few minutes before transferring to a wire rack to cool completely.\"]}\n",
            "]\n",
            "}\n",
            "\n"
          ]
        }
      ]
    }
  ]
}